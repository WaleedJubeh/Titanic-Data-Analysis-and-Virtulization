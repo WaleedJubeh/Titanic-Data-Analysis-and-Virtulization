{
 "cells": [
  {
   "cell_type": "code",
   "execution_count": 1,
   "metadata": {},
   "outputs": [],
   "source": [
    "import numpy as np\n",
    "import pandas as pd\n",
    "import matplotlib.pyplot as plt\n"
   ]
  },
  {
   "cell_type": "code",
   "execution_count": 2,
   "metadata": {},
   "outputs": [],
   "source": [
    "dataFrameOrgin=pd.read_csv('titanic/train.csv')\n",
    "dataFrame=dataFrameOrgin"
   ]
  },
  {
   "cell_type": "code",
   "execution_count": 3,
   "metadata": {},
   "outputs": [
    {
     "data": {
      "text/plain": [
       "Index(['PassengerId', 'Survived', 'Pclass', 'Name', 'Sex', 'Age', 'SibSp',\n",
       "       'Parch', 'Ticket', 'Fare', 'Cabin', 'Embarked'],\n",
       "      dtype='object')"
      ]
     },
     "execution_count": 3,
     "metadata": {},
     "output_type": "execute_result"
    }
   ],
   "source": [
    "dataFrame.columns"
   ]
  },
  {
   "cell_type": "markdown",
   "metadata": {},
   "source": [
    "# Clean Data"
   ]
  },
  {
   "cell_type": "code",
   "execution_count": 4,
   "metadata": {},
   "outputs": [
    {
     "name": "stdout",
     "output_type": "stream",
     "text": [
      "<class 'pandas.core.frame.DataFrame'>\n",
      "RangeIndex: 891 entries, 0 to 890\n",
      "Data columns (total 12 columns):\n",
      "PassengerId    891 non-null int64\n",
      "Survived       891 non-null int64\n",
      "Pclass         891 non-null int64\n",
      "Name           891 non-null object\n",
      "Sex            891 non-null object\n",
      "Age            714 non-null float64\n",
      "SibSp          891 non-null int64\n",
      "Parch          891 non-null int64\n",
      "Ticket         891 non-null object\n",
      "Fare           891 non-null float64\n",
      "Cabin          204 non-null object\n",
      "Embarked       889 non-null object\n",
      "dtypes: float64(2), int64(5), object(5)\n",
      "memory usage: 83.6+ KB\n"
     ]
    }
   ],
   "source": [
    "dataFrame.info()"
   ]
  },
  {
   "cell_type": "code",
   "execution_count": 5,
   "metadata": {},
   "outputs": [],
   "source": [
    "dataFrame['Embarked'].fillna(dataFrame['Embarked'].mode()[0],inplace=True)\n",
    "dataFrame['Age'].fillna(dataFrame['Age'].mean(),inplace=True)"
   ]
  },
  {
   "cell_type": "code",
   "execution_count": 6,
   "metadata": {},
   "outputs": [],
   "source": [
    "dataFrame['EmbarkedS']=dataFrame.apply(lambda x: 1 if x.Embarked=='S'else 0 ,axis=1)\n",
    "dataFrame['EmbarkedC']=dataFrame.apply(lambda x: 1 if x.Embarked=='C'else 0 ,axis=1)\n",
    "dataFrame['EmbarkedQ']=dataFrame.apply(lambda x: 1 if x.Embarked=='Q'else 0 ,axis=1)\n",
    "dataFrame['Pclass1']=dataFrame.apply(lambda x: 1 if x.Pclass==1 else 0 ,axis=1)\n",
    "dataFrame['Pclass2']=dataFrame.apply(lambda x: 1 if x.Pclass==2 else 0 ,axis=1)\n",
    "dataFrame['Pclass3']=dataFrame.apply(lambda x: 1 if x.Pclass==3 else 0 ,axis=1)\n",
    "dataFrame['Sex']=dataFrame[['Sex']].applymap(lambda x:1 if x=='male' else 0)\n"
   ]
  },
  {
   "cell_type": "code",
   "execution_count": 7,
   "metadata": {},
   "outputs": [],
   "source": [
    "from sklearn.preprocessing import StandardScaler\n",
    "sc = StandardScaler()\n",
    "dataFrame[['Fare']] =sc.fit_transform(dataFrame[['Fare']] )\n"
   ]
  },
  {
   "cell_type": "code",
   "execution_count": 8,
   "metadata": {},
   "outputs": [],
   "source": [
    "dataFrame=dataFrame.drop(columns=['PassengerId','Pclass','Cabin','Name','SibSp','Embarked','Ticket','Parch'])"
   ]
  },
  {
   "cell_type": "code",
   "execution_count": 9,
   "metadata": {},
   "outputs": [
    {
     "name": "stdout",
     "output_type": "stream",
     "text": [
      "<class 'pandas.core.frame.DataFrame'>\n",
      "RangeIndex: 891 entries, 0 to 890\n",
      "Data columns (total 10 columns):\n",
      "Survived     891 non-null int64\n",
      "Sex          891 non-null int64\n",
      "Age          891 non-null float64\n",
      "Fare         891 non-null float64\n",
      "EmbarkedS    891 non-null int64\n",
      "EmbarkedC    891 non-null int64\n",
      "EmbarkedQ    891 non-null int64\n",
      "Pclass1      891 non-null int64\n",
      "Pclass2      891 non-null int64\n",
      "Pclass3      891 non-null int64\n",
      "dtypes: float64(2), int64(8)\n",
      "memory usage: 69.7 KB\n"
     ]
    }
   ],
   "source": [
    "dataFrame.info()"
   ]
  },
  {
   "cell_type": "code",
   "execution_count": 10,
   "metadata": {},
   "outputs": [
    {
     "data": {
      "text/html": [
       "<div>\n",
       "<style scoped>\n",
       "    .dataframe tbody tr th:only-of-type {\n",
       "        vertical-align: middle;\n",
       "    }\n",
       "\n",
       "    .dataframe tbody tr th {\n",
       "        vertical-align: top;\n",
       "    }\n",
       "\n",
       "    .dataframe thead th {\n",
       "        text-align: right;\n",
       "    }\n",
       "</style>\n",
       "<table border=\"1\" class=\"dataframe\">\n",
       "  <thead>\n",
       "    <tr style=\"text-align: right;\">\n",
       "      <th></th>\n",
       "      <th>Survived</th>\n",
       "      <th>Sex</th>\n",
       "      <th>Age</th>\n",
       "      <th>Fare</th>\n",
       "      <th>EmbarkedS</th>\n",
       "      <th>EmbarkedC</th>\n",
       "      <th>EmbarkedQ</th>\n",
       "      <th>Pclass1</th>\n",
       "      <th>Pclass2</th>\n",
       "      <th>Pclass3</th>\n",
       "    </tr>\n",
       "  </thead>\n",
       "  <tbody>\n",
       "    <tr>\n",
       "      <th>405</th>\n",
       "      <td>0</td>\n",
       "      <td>1</td>\n",
       "      <td>34.0</td>\n",
       "      <td>-0.225593</td>\n",
       "      <td>1</td>\n",
       "      <td>0</td>\n",
       "      <td>0</td>\n",
       "      <td>0</td>\n",
       "      <td>1</td>\n",
       "      <td>0</td>\n",
       "    </tr>\n",
       "    <tr>\n",
       "      <th>189</th>\n",
       "      <td>0</td>\n",
       "      <td>1</td>\n",
       "      <td>36.0</td>\n",
       "      <td>-0.489442</td>\n",
       "      <td>1</td>\n",
       "      <td>0</td>\n",
       "      <td>0</td>\n",
       "      <td>0</td>\n",
       "      <td>0</td>\n",
       "      <td>1</td>\n",
       "    </tr>\n",
       "    <tr>\n",
       "      <th>381</th>\n",
       "      <td>1</td>\n",
       "      <td>0</td>\n",
       "      <td>1.0</td>\n",
       "      <td>-0.331467</td>\n",
       "      <td>0</td>\n",
       "      <td>1</td>\n",
       "      <td>0</td>\n",
       "      <td>0</td>\n",
       "      <td>0</td>\n",
       "      <td>1</td>\n",
       "    </tr>\n",
       "    <tr>\n",
       "      <th>378</th>\n",
       "      <td>0</td>\n",
       "      <td>1</td>\n",
       "      <td>20.0</td>\n",
       "      <td>-0.567631</td>\n",
       "      <td>0</td>\n",
       "      <td>1</td>\n",
       "      <td>0</td>\n",
       "      <td>0</td>\n",
       "      <td>0</td>\n",
       "      <td>1</td>\n",
       "    </tr>\n",
       "    <tr>\n",
       "      <th>173</th>\n",
       "      <td>0</td>\n",
       "      <td>1</td>\n",
       "      <td>21.0</td>\n",
       "      <td>-0.488854</td>\n",
       "      <td>1</td>\n",
       "      <td>0</td>\n",
       "      <td>0</td>\n",
       "      <td>0</td>\n",
       "      <td>0</td>\n",
       "      <td>1</td>\n",
       "    </tr>\n",
       "  </tbody>\n",
       "</table>\n",
       "</div>"
      ],
      "text/plain": [
       "     Survived  Sex   Age      Fare  EmbarkedS  EmbarkedC  EmbarkedQ  Pclass1  \\\n",
       "405         0    1  34.0 -0.225593          1          0          0        0   \n",
       "189         0    1  36.0 -0.489442          1          0          0        0   \n",
       "381         1    0   1.0 -0.331467          0          1          0        0   \n",
       "378         0    1  20.0 -0.567631          0          1          0        0   \n",
       "173         0    1  21.0 -0.488854          1          0          0        0   \n",
       "\n",
       "     Pclass2  Pclass3  \n",
       "405        1        0  \n",
       "189        0        1  \n",
       "381        0        1  \n",
       "378        0        1  \n",
       "173        0        1  "
      ]
     },
     "execution_count": 10,
     "metadata": {},
     "output_type": "execute_result"
    }
   ],
   "source": [
    "dataFrame.sample(5)"
   ]
  },
  {
   "cell_type": "markdown",
   "metadata": {},
   "source": [
    "# Plots"
   ]
  },
  {
   "cell_type": "code",
   "execution_count": 11,
   "metadata": {},
   "outputs": [
    {
     "data": {
      "image/png": "[encoded data removed]",
      "text/plain": [
       "<Figure size 1296x432 with 1 Axes>"
      ]
     },
     "metadata": {
      "needs_background": "light"
     },
     "output_type": "display_data"
    }
   ],
   "source": [
    "fig =plt.figure(figsize=(18,6))\n",
    "plt.subplot2grid((3,5),(0,0),colspan=2,rowspan=3)\n",
    "plt.title(\"Rish womens\")\n",
    "ax=dataFrame.Survived[(dataFrame['Pclass1']==1) & (dataFrame['Sex']==0)].value_counts().plot(kind=\"bar\",color=['g','r'])\n",
    "ax.set_xticklabels(['Survived','died'],rotation=0)\n",
    "plt.xlabel(\"Survive label\")\n",
    "plt.ylabel(\"Person/s\")\n",
    "\n",
    "plt.show()"
   ]
  },
  {
   "cell_type": "markdown",
   "metadata": {},
   "source": [
    "Almost all Womens from First class survived"
   ]
  },
  {
   "cell_type": "code",
   "execution_count": 12,
   "metadata": {},
   "outputs": [
    {
     "data": {
      "image/png": "[encoded data removed]",
      "text/plain": [
       "<Figure size 1296x432 with 1 Axes>"
      ]
     },
     "metadata": {
      "needs_background": "light"
     },
     "output_type": "display_data"
    }
   ],
   "source": [
    "fig =plt.figure(figsize=(18,6))\n",
    "plt.subplot2grid((3,5),(0,1),rowspan=2,colspan=3)\n",
    "\n",
    "plt.title(\"poor men vs survived\")\n",
    "ax=dataFrame.Survived[(dataFrame['Pclass3']==1) & (dataFrame['Sex']==1)].value_counts().plot(kind=\"bar\",color=['r','g'])\n",
    "ax.set_xticklabels(['died','Survived'],rotation=0)\n",
    "plt.xlabel(\"Survived\")\n",
    "plt.ylabel(\"Person/s\")\n",
    "\n",
    "plt.show()"
   ]
  },
  {
   "cell_type": "markdown",
   "metadata": {},
   "source": [
    "Most men from pclass 3 dead"
   ]
  },
  {
   "cell_type": "code",
   "execution_count": 13,
   "metadata": {},
   "outputs": [
    {
     "data": {
      "image/png": "[encoded data removed]",
      "text/plain": [
       "<Figure size 1296x432 with 1 Axes>"
      ]
     },
     "metadata": {
      "needs_background": "light"
     },
     "output_type": "display_data"
    }
   ],
   "source": [
    "fig =plt.figure(figsize=(18,6))\n",
    "plt.subplot2grid((3,5),(0,2),colspan=3,rowspan=2)\n",
    "\n",
    "plt.title(\"men vs Women Survived\")\n",
    "ax=dataFrame.Sex[dataFrame['Survived']==1].value_counts().plot(kind=\"bar\",color=['g','c'])\n",
    "ax.set_xticklabels(['Female','Male'],rotation=0)\n",
    "plt.xlabel(\"Sex\")\n",
    "plt.ylabel(\"Person/s\")\n",
    "\n",
    "plt.show()"
   ]
  },
  {
   "cell_type": "markdown",
   "metadata": {},
   "source": [
    "Most survivors were Female"
   ]
  },
  {
   "cell_type": "code",
   "execution_count": 21,
   "metadata": {},
   "outputs": [
    {
     "data": {
      "image/png": "[encoded data removed]",
      "text/plain": [
       "<Figure size 1296x432 with 1 Axes>"
      ]
     },
     "metadata": {
      "needs_background": "light"
     },
     "output_type": "display_data"
    }
   ],
   "source": [
    "fig =plt.figure(figsize=(18,6))\n",
    "plt.subplot2grid((3,5),(0,2),colspan=3,rowspan=2)\n",
    "\n",
    "plt.title(\"men vs Women Survived\")\n",
    "ax=dataFrameOrgin.Embarked[dataFrame['Survived']==1].value_counts().plot(kind=\"bar\",color=['g','c','y'])\n",
    "ax.set_xticklabels(['S','C','Q'],rotation=0)\n",
    "plt.xlabel(\"Embarked\")\n",
    "plt.ylabel(\"Person/s\")\n",
    "plt.show()"
   ]
  },
  {
   "cell_type": "markdown",
   "metadata": {},
   "source": [
    "Most Passengers are from S embarked"
   ]
  },
  {
   "cell_type": "code",
   "execution_count": 22,
   "metadata": {},
   "outputs": [
    {
     "data": {
      "image/png": "[encoded data removed]",
      "text/plain": [
       "<Figure size 1296x432 with 3 Axes>"
      ]
     },
     "metadata": {
      "needs_background": "light"
     },
     "output_type": "display_data"
    }
   ],
   "source": [
    "fig=plt.figure(figsize=(18,6))\n",
    "plt.subplot2grid((3,5),(0,0),rowspan=4)\n",
    "plt.title(\"Pclass 1 and Pclass 2 People who Survived  from Embacked C\")\n",
    "ax=dataFrame.Survived[ (dataFrame['EmbarkedC']==1) &( (dataFrame['Pclass1']==1) |((dataFrame['Pclass2']==1))) ].value_counts().plot(kind=\"bar\",color=['g','r'])\n",
    "ax.set_xticklabels(['Survived','died'],rotation=0)\n",
    "plt.subplot2grid((3,5),(0,2),rowspan=4)\n",
    "plt.title(\"Pclass 1 People who Survived  from Embacked C\")\n",
    "\n",
    "ax=dataFrame.Survived[ (dataFrame['EmbarkedC']==1) & (dataFrame['Pclass1']==1) ].value_counts().plot(kind=\"bar\",color=['g','r'])\n",
    "ax.set_xticklabels(['Survived','died'],rotation=0)\n",
    "plt.subplot2grid((3,5),(0,4),rowspan=4)\n",
    "plt.title(\"Pclass 2 People who Survived  from Embacked C\")\n",
    "ax=dataFrame.Survived[ (dataFrame['EmbarkedC']==1) &(dataFrame['Pclass2']==1) ].value_counts().plot(kind=\"bar\",color=['g','r'])\n",
    "ax.set_xticklabels(['Survived','died'],rotation=0)\n",
    "\n",
    "plt.show()"
   ]
  },
  {
   "cell_type": "markdown",
   "metadata": {},
   "source": [
    "Pclass 1 , Pclass 2 , and both classes who servived"
   ]
  },
  {
   "cell_type": "code",
   "execution_count": 23,
   "metadata": {},
   "outputs": [],
   "source": [
    "x=dataFrame.copy()\n",
    "x['ageCat']=pd.cut(dataFrame.Age,[0,20,40,60,80],labels=[1,2,3,4])\n"
   ]
  },
  {
   "cell_type": "code",
   "execution_count": 24,
   "metadata": {},
   "outputs": [
    {
     "data": {
      "image/png": "[encoded data removed]",
      "text/plain": [
       "<Figure size 1296x432 with 2 Axes>"
      ]
     },
     "metadata": {
      "needs_background": "light"
     },
     "output_type": "display_data"
    }
   ],
   "source": [
    "fig=plt.figure(figsize=(18,6))\n",
    "plt.subplot2grid((3,5),(0,0),rowspan=4)\n",
    "plt.title(\"Ages category\")\n",
    "ax=x.ageCat.value_counts().plot(kind=\"bar\",color=['y', 'g', 'b', 'c'])\n",
    "plt.xlabel(\"Age categories\")\n",
    "plt.ylabel(\"Person/s\")\n",
    "\n",
    "ax.set_xticklabels(['0-20','20-40','40-60','60-80'],rotation=0)\n",
    "plt.subplot2grid((3,5),(0,2),rowspan=4)\n",
    "plt.title(\"Age categories vs Survived\")\n",
    "          \n",
    "ax=x.ageCat[x['Survived']==1].value_counts().plot(kind=\"bar\",color=['y', 'g', 'b', 'c'])\n",
    "ax.set_xticklabels(['0-20','20-40','40-60','60-80'],rotation=0)\n",
    "plt.xlabel(\"Age categories\")\n",
    "plt.ylabel(\"Person/s\")\n",
    "\n",
    "plt.show()"
   ]
  },
  {
   "cell_type": "markdown",
   "metadata": {},
   "source": [
    "### Age caregories , and Number of Servivers from each Categories "
   ]
  },
  {
   "cell_type": "code",
   "execution_count": 18,
   "metadata": {},
   "outputs": [],
   "source": [
    "dataFrameOrgin['Names']=dataFrameOrgin[['Name']].applymap(lambda x:x.split()[1])\n"
   ]
  },
  {
   "cell_type": "markdown",
   "metadata": {},
   "source": [
    "# Fun Plots"
   ]
  },
  {
   "cell_type": "code",
   "execution_count": 19,
   "metadata": {},
   "outputs": [
    {
     "data": {
      "image/png": "[encoded data removed]",
      "text/plain": [
       "<Figure size 1296x432 with 1 Axes>"
      ]
     },
     "metadata": {
      "needs_background": "light"
     },
     "output_type": "display_data"
    }
   ],
   "source": [
    "fig=plt.figure(figsize=(18,6))\n",
    "plt.subplot2grid((3,5),(0,0),rowspan=4,colspan=4)\n",
    "dataFrameOrgin['Names'].value_counts()[:3].plot(kind=\"bar\",color=['c','g','k','y','b'])\n",
    "plt.xlabel(\"Nicknames\")\n",
    "plt.ylabel(\"Persons\")\n",
    "plt.show()"
   ]
  },
  {
   "cell_type": "markdown",
   "metadata": {},
   "source": [
    "Most Passenger's Titles"
   ]
  },
  {
   "cell_type": "code",
   "execution_count": 20,
   "metadata": {},
   "outputs": [
    {
     "data": {
      "image/png": "[encoded data removed]",
      "text/plain": [
       "<Figure size 1296x432 with 1 Axes>"
      ]
     },
     "metadata": {
      "needs_background": "light"
     },
     "output_type": "display_data"
    }
   ],
   "source": [
    "fig=plt.figure(figsize=(18,6))\n",
    "plt.subplot2grid((3,5),(0,0),rowspan=4,colspan=4)\n",
    "dataFrameOrgin.Names[ (dataFrameOrgin['Survived']==1)].value_counts()[:3].plot(kind=\"bar\",color=['c','g','k','b'])\n",
    "plt.xlabel(\"Nicknames\")\n",
    "plt.ylabel(\"Persons\")\n",
    "plt.show()"
   ]
  },
  {
   "cell_type": "markdown",
   "metadata": {},
   "source": [
    "# Enjoy"
   ]
  }
 ],
 "metadata": {
  "kernelspec": {
   "display_name": "Python 3",
   "language": "python",
   "name": "python3"
  },
  "language_info": {
   "codemirror_mode": {
    "name": "ipython",
    "version": 3
   },
   "file_extension": ".py",
   "mimetype": "text/x-python",
   "name": "python",
   "nbconvert_exporter": "python",
   "pygments_lexer": "ipython3",
   "version": "3.7.3"
  }
 },
 "nbformat": 4,
 "nbformat_minor": 2
}
